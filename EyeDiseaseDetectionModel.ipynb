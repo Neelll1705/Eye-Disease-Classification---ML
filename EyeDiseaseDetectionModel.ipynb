{
  "cells": [
    {
      "cell_type": "markdown",
      "metadata": {
        "id": "view-in-github",
        "colab_type": "text"
      },
      "source": [
        "<a href=\"https://colab.research.google.com/github/Neelll1705/Eye-Disease-Classification---ML/blob/main/EyeDiseaseDetectionModel.ipynb\" target=\"_parent\"><img src=\"https://colab.research.google.com/assets/colab-badge.svg\" alt=\"Open In Colab\"/></a>"
      ]
    },
    {
      "cell_type": "code",
      "execution_count": null,
      "metadata": {
        "id": "l1ybqnaIy3Rt"
      },
      "outputs": [],
      "source": [
        "!pip install -q kaggle"
      ]
    },
    {
      "cell_type": "code",
      "execution_count": null,
      "metadata": {
        "id": "PHq4xre7ztdc"
      },
      "outputs": [],
      "source": [
        "!mkdir ~/.kaggle"
      ]
    },
    {
      "cell_type": "code",
      "execution_count": null,
      "metadata": {
        "id": "D4IOV6_dzvV4"
      },
      "outputs": [],
      "source": [
        "!cp kaggle.json ~/.kaggle"
      ]
    },
    {
      "cell_type": "code",
      "execution_count": null,
      "metadata": {
        "id": "koLdW_np0fi4"
      },
      "outputs": [],
      "source": [
        "!kaggle datasets download -d gunavenkatdoddi/eye-diseases-classification"
      ]
    },
    {
      "cell_type": "code",
      "execution_count": null,
      "metadata": {
        "id": "lig8oF4X0kne"
      },
      "outputs": [],
      "source": [
        "!unzip /content/eye-diseases-classification.zip"
      ]
    },
    {
      "cell_type": "markdown",
      "metadata": {
        "id": "TI9Jaf1U6Gqz"
      },
      "source": [
        "## Import the library"
      ]
    },
    {
      "cell_type": "code",
      "execution_count": null,
      "metadata": {
        "id": "7Ma3Dmv_0yHc"
      },
      "outputs": [],
      "source": [
        "import numpy as np\n",
        "import pandas as pd\n",
        "import matplotlib.pyplot as plt\n",
        "import seaborn as sns\n",
        "import cv2\n",
        "import tensorflow as tf\n",
        "from tensorflow import keras\n",
        "from pathlib import Path\n",
        "import PIL\n",
        "import os"
      ]
    },
    {
      "cell_type": "markdown",
      "metadata": {
        "id": "YxdU1fmQ6DZO"
      },
      "source": [
        "## Load the dataset"
      ]
    },
    {
      "cell_type": "code",
      "execution_count": null,
      "metadata": {
        "id": "pDKUEaJj025L"
      },
      "outputs": [],
      "source": [
        "glaucoma = Path('/content/dataset/glaucoma')\n",
        "cataract = Path('/content/dataset/cataract')\n",
        "normal = Path('/content/dataset/normal')\n",
        "diabetic_retinopathy = Path('/content/dataset/diabetic_retinopathy')"
      ]
    },
    {
      "cell_type": "code",
      "execution_count": null,
      "metadata": {
        "id": "rhBp61Rw2Nyp"
      },
      "outputs": [],
      "source": [
        "from tqdm import tqdm\n",
        "\n",
        "disease_type = [glaucoma, cataract,normal,diabetic_retinopathy]\n",
        "df = pd.DataFrame()\n",
        "\n",
        "for types in disease_type:\n",
        "    for imagepath in tqdm(list(types.iterdir()), desc= str(types)):\n",
        "        df = pd.concat([df, pd.DataFrame({'image': [str(imagepath)],'disease_type': [disease_type.index(types)]})], ignore_index=True)"
      ]
    },
    {
      "cell_type": "code",
      "execution_count": null,
      "metadata": {
        "id": "ZSDmzuKv5fJY"
      },
      "outputs": [],
      "source": [
        "df.head()"
      ]
    },
    {
      "cell_type": "code",
      "execution_count": null,
      "metadata": {
        "id": "i2oGay9C5kVU"
      },
      "outputs": [],
      "source": [
        "df.disease_type.value_counts()"
      ]
    },
    {
      "cell_type": "code",
      "execution_count": null,
      "metadata": {
        "id": "ZXVBfUAY6bpf"
      },
      "outputs": [],
      "source": [
        "df.shape"
      ]
    },
    {
      "cell_type": "code",
      "execution_count": null,
      "metadata": {
        "id": "O1Hy20Jt8wZJ"
      },
      "outputs": [],
      "source": [
        "df['disease_type'] = df['disease_type'].map({0:'glaucoma',1:'cataract',2:'normal',3:'diabetic_retinopathy'})"
      ]
    },
    {
      "cell_type": "code",
      "execution_count": null,
      "metadata": {
        "id": "KffdGCTE8zwb"
      },
      "outputs": [],
      "source": [
        "df.head()"
      ]
    },
    {
      "cell_type": "markdown",
      "metadata": {
        "id": "QSGde6Sr57fT"
      },
      "source": [
        "## Visualizing Images in the dataset"
      ]
    },
    {
      "cell_type": "code",
      "execution_count": null,
      "metadata": {
        "id": "43lCeogl5wTH"
      },
      "outputs": [],
      "source": [
        "from PIL import Image\n",
        "import random\n",
        "\n",
        "rand_index = random.randint(0, len(df['image']) - 1)\n",
        "disease_type = df['disease_type'][rand_index]\n",
        "IMG = Image.open(df['image'][rand_index])\n",
        "plt.title(f'Disease: {disease_type}')\n",
        "plt.axis('off')\n",
        "plt.imshow(IMG)\n",
        "plt.show()"
      ]
    },
    {
      "cell_type": "code",
      "execution_count": null,
      "metadata": {
        "id": "0ZFmH6hf_SBh"
      },
      "outputs": [],
      "source": [
        "df1 = df.sample(frac=1).reset_index(drop=True)"
      ]
    },
    {
      "cell_type": "code",
      "execution_count": null,
      "metadata": {
        "id": "deVFiGCE69T7"
      },
      "outputs": [],
      "source": [
        "import matplotlib.pyplot as plt\n",
        "plt.figure(figsize=(20,10))\n",
        "for i in range (50):\n",
        "    plt.subplot(5,10,i+1)\n",
        "    img = Image.open(df1['image'][i])\n",
        "    plt.title(f' Disease {df1.disease_type[i]}')\n",
        "    plt.imshow(img);\n",
        "    plt.axis('off')\n",
        "plt.tight_layout()\n",
        "plt.show()"
      ]
    },
    {
      "cell_type": "code",
      "execution_count": null,
      "metadata": {
        "id": "1DEE-6GD9qCo"
      },
      "outputs": [],
      "source": [
        "sns.countplot(x = 'disease_type', data = df1)\n",
        "plt.xlabel(\"Disease type\")\n",
        "plt.show()"
      ]
    },
    {
      "cell_type": "markdown",
      "metadata": {
        "id": "PKPDpRI7_5Hc"
      },
      "source": [
        "## Model training"
      ]
    },
    {
      "cell_type": "code",
      "execution_count": null,
      "metadata": {
        "id": "U9QC-pCY-NfN"
      },
      "outputs": [],
      "source": [
        "#import necessary libraries for the model\n",
        "from tensorflow.keras.preprocessing.image import ImageDataGenerator\n",
        "from tensorflow.keras.models import Model\n",
        "from tensorflow.keras.applications.resnet50 import preprocess_input\n",
        "from tensorflow import keras\n",
        "from tensorflow.keras import layers\n",
        "from sklearn.metrics import classification_report, confusion_matrix"
      ]
    },
    {
      "cell_type": "code",
      "execution_count": null,
      "metadata": {
        "id": "MAH7RpfU_8m-"
      },
      "outputs": [],
      "source": [
        "data_dir='dataset'"
      ]
    },
    {
      "cell_type": "code",
      "execution_count": null,
      "metadata": {
        "id": "uZN285REA6nB"
      },
      "outputs": [],
      "source": [
        "datagen = ImageDataGenerator(\n",
        "    rotation_range=40,\n",
        "    width_shift_range=0.2,\n",
        "    height_shift_range=0.2,\n",
        "    shear_range=0.2,\n",
        "    zoom_range=0.2,\n",
        "    horizontal_flip=True,\n",
        "    fill_mode='nearest'\n",
        ")"
      ]
    },
    {
      "cell_type": "code",
      "execution_count": null,
      "metadata": {
        "id": "iaB_4MAGBClW"
      },
      "outputs": [],
      "source": [
        "train_ds = tf.keras.utils.image_dataset_from_directory(\n",
        "    data_dir,\n",
        "    validation_split=0.25,\n",
        "    subset=\"training\",\n",
        "    seed=123,\n",
        "    image_size=(128,128),\n",
        "    batch_size=32,\n",
        "    label_mode='categorical'  # Use categorical labels\n",
        ")\n",
        "\n",
        "val_ds = tf.keras.utils.image_dataset_from_directory(\n",
        "    data_dir,\n",
        "    validation_split=0.25,\n",
        "    subset=\"validation\",\n",
        "    seed=123,\n",
        "    image_size=(128,128),\n",
        "    batch_size=32,\n",
        "    label_mode='categorical'\n",
        ")"
      ]
    },
    {
      "cell_type": "code",
      "execution_count": null,
      "metadata": {
        "id": "5ePtaFXbBQ0G"
      },
      "outputs": [],
      "source": [
        "class_names = train_ds.class_names\n",
        "print(class_names)"
      ]
    },
    {
      "cell_type": "code",
      "execution_count": null,
      "metadata": {
        "id": "CJ3yQc5zBUhw"
      },
      "outputs": [],
      "source": [
        "num_classes = 4"
      ]
    },
    {
      "cell_type": "code",
      "execution_count": null,
      "metadata": {
        "id": "CrO3F7t4BXkp"
      },
      "outputs": [],
      "source": [
        "model = keras.Sequential([\n",
        "    layers.Rescaling(1./255, input_shape=(128,128, 3)),\n",
        "    layers.Conv2D(16, 3, padding='same', activation='relu'),\n",
        "    layers.MaxPooling2D(),\n",
        "    layers.Conv2D(32, 3, padding='same', activation='relu'),\n",
        "    layers.MaxPooling2D(),\n",
        "    layers.Conv2D(32, 3, padding='same', activation='relu'),\n",
        "    layers.MaxPooling2D(),\n",
        "    layers.Conv2D(64, 3, padding='same', activation='relu'),\n",
        "    layers.MaxPooling2D(),\n",
        "    layers.Flatten(),\n",
        "    layers.Dense(128, activation='relu'),\n",
        "    layers.Dense(num_classes,activation='softmax')\n",
        "])"
      ]
    },
    {
      "cell_type": "code",
      "execution_count": null,
      "metadata": {
        "id": "AUvG0f9nB9hS"
      },
      "outputs": [],
      "source": [
        "model.compile(optimizer='adam',\n",
        "              loss='categorical_crossentropy',\n",
        "              metrics=['accuracy'])"
      ]
    },
    {
      "cell_type": "code",
      "execution_count": null,
      "metadata": {
        "id": "d7Lom4iICPwu"
      },
      "outputs": [],
      "source": [
        "model.summary()"
      ]
    },
    {
      "cell_type": "code",
      "execution_count": null,
      "metadata": {
        "id": "TODw0s5ZCFAm"
      },
      "outputs": [],
      "source": [
        "history = model.fit(train_ds, validation_data=val_ds, epochs=20)"
      ]
    },
    {
      "cell_type": "markdown",
      "metadata": {
        "id": "Lo0SkyaQZD7h"
      },
      "source": [
        "## Model Performance"
      ]
    },
    {
      "cell_type": "code",
      "execution_count": null,
      "metadata": {
        "id": "q8Hk1Ao9D7hs"
      },
      "outputs": [],
      "source": [
        "# create a plot of accuracy and val_acuracy for each epoch\n",
        "plt.plot(history.history['accuracy'])\n",
        "plt.plot(history.history['val_accuracy'])\n",
        "plt.title('Model Accuracy')\n",
        "plt.ylabel('accuracy')\n",
        "plt.xlabel('epoch')\n",
        "plt.legend(['Train', 'Val'])\n",
        "plt.show()"
      ]
    },
    {
      "cell_type": "code",
      "execution_count": null,
      "metadata": {
        "id": "wKlkS9RBHh6L"
      },
      "outputs": [],
      "source": [
        "# create a plot of loss and val_loss for each epoch\n",
        "plt.plot(history.history['loss'])\n",
        "plt.plot(history.history['val_loss'])\n",
        "plt.title('Model Loss')\n",
        "plt.ylabel('Loss')\n",
        "plt.xlabel('epoch')\n",
        "plt.legend(['Train', 'Val'])\n",
        "plt.show()"
      ]
    },
    {
      "cell_type": "code",
      "execution_count": null,
      "metadata": {
        "id": "HCv0hVA0Eb3B"
      },
      "outputs": [],
      "source": [
        "# Get the class names\n",
        "class_names = train_ds.class_names\n",
        "\n",
        "# Initialize variables to store class-wise counts\n",
        "class_counts = {class_name: 0 for class_name in class_names}\n",
        "class_correct_counts = {class_name: 0 for class_name in class_names}\n",
        "\n",
        "# Iterate over the validation dataset to calculate class-level accuracy\n",
        "for images, labels in val_ds:\n",
        "    predictions = model.predict(images)\n",
        "    predicted_classes = tf.argmax(predictions, axis=1)\n",
        "    true_classes = tf.argmax(labels, axis=1)\n",
        "\n",
        "    for i in range(len(class_names)):\n",
        "        class_name = class_names[i]\n",
        "        class_counts[class_name] += tf.reduce_sum(tf.cast(true_classes == i, tf.int32))\n",
        "        class_correct_counts[class_name] += tf.reduce_sum(tf.cast(tf.logical_and(true_classes == i, true_classes == predicted_classes), tf.int32))\n",
        "\n",
        "# Calculate and print class-level accuracy\n",
        "print('Class-level accuracy:')\n",
        "for class_name in class_names:\n",
        "    accuracy = class_correct_counts[class_name] / class_counts[class_name]\n",
        "    print(f'{class_name}: {accuracy.numpy():.4f}')"
      ]
    },
    {
      "cell_type": "markdown",
      "metadata": {
        "id": "c6R70eaE1TiQ"
      },
      "source": [
        "## Save the Model"
      ]
    },
    {
      "cell_type": "code",
      "execution_count": null,
      "metadata": {
        "id": "LOw3KFaI1aBr"
      },
      "outputs": [],
      "source": [
        "#finally save the model\n",
        "\n",
        "tf.keras.models.save_model(model,'EyeModel.h5')"
      ]
    },
    {
      "cell_type": "markdown",
      "metadata": {
        "id": "I2q-PvrZ1hRH"
      },
      "source": [
        "## Test the model"
      ]
    },
    {
      "cell_type": "code",
      "execution_count": null,
      "metadata": {
        "id": "nfHzTHssG_4U"
      },
      "outputs": [],
      "source": [
        "from tensorflow.keras.preprocessing import image\n",
        "img = image.load_img('/content/dataset/cataract/1062_right.jpg',target_size =(128,128))\n",
        "img"
      ]
    },
    {
      "cell_type": "code",
      "execution_count": null,
      "metadata": {
        "id": "5s2EB6PeH9QF"
      },
      "outputs": [],
      "source": [
        "x = image.img_to_array(img)\n",
        "x = np.expand_dims(x,axis = 0)\n",
        "pred =np.argmax(model.predict(x))\n",
        "op = {0:'cataract',1:'diabetic_retinopathy',2:'glaucoma',3:'normal'}\n",
        "op[pred]"
      ]
    },
    {
      "cell_type": "code",
      "execution_count": null,
      "metadata": {
        "id": "mLBjXoqz1uO7"
      },
      "outputs": [],
      "source": [
        "img = image.load_img('/content/dataset/diabetic_retinopathy/10009_right.jpeg',target_size =(128,128))\n",
        "img"
      ]
    },
    {
      "cell_type": "code",
      "execution_count": null,
      "metadata": {
        "id": "bVeiKC6w1z_k"
      },
      "outputs": [],
      "source": [
        "x = image.img_to_array(img)\n",
        "x = np.expand_dims(x,axis = 0)\n",
        "pred =np.argmax(model.predict(x))\n",
        "op = {0:'cataract',1:'diabetic_retinopathy',2:'glaucoma',3:'normal'}\n",
        "op[pred]"
      ]
    },
    {
      "cell_type": "code",
      "execution_count": null,
      "metadata": {
        "id": "M1IG5L8412bW"
      },
      "outputs": [],
      "source": []
    }
  ],
  "metadata": {
    "accelerator": "TPU",
    "colab": {
      "provenance": [],
      "include_colab_link": true
    },
    "kernelspec": {
      "display_name": "Python 3",
      "name": "python3"
    },
    "language_info": {
      "name": "python"
    }
  },
  "nbformat": 4,
  "nbformat_minor": 0
}